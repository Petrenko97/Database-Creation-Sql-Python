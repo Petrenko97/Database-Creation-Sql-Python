{
 "cells": [
  {
   "cell_type": "code",
   "execution_count": 32,
   "id": "459f4a09",
   "metadata": {},
   "outputs": [],
   "source": [
    "import psycopg2\n",
    "import sys"
   ]
  },
  {
   "cell_type": "code",
   "execution_count": 33,
   "id": "1ce89351",
   "metadata": {},
   "outputs": [],
   "source": [
    "con=psycopg2.connect(\"dbname=Automoblie_Company user=postgres password=*******\")"
   ]
  },
  {
   "cell_type": "code",
   "execution_count": 34,
   "id": "c0bbd5dd",
   "metadata": {},
   "outputs": [],
   "source": [
    "cu=con.cursor()"
   ]
  },
  {
   "cell_type": "code",
   "execution_count": 35,
   "id": "7b22ccb5",
   "metadata": {},
   "outputs": [],
   "source": [
    "def Int_input():\n",
    "    flag=input(\"Is input int?  Type Yes else insert any key: \")\n",
    "    print(\"type input parameter\")\n",
    "    if flag==\"Yes\":\n",
    "        a=input(\"Type the parameter: \")\n",
    "        a=int(a)\n",
    "    else:\n",
    "        a=input(\"Type the parameter: \")\n",
    "    return a ;      "
   ]
  },
  {
   "cell_type": "code",
   "execution_count": 36,
   "id": "ff5ab18f",
   "metadata": {},
   "outputs": [
    {
     "name": "stdout",
     "output_type": "stream",
     "text": [
      " Press 1 for Entity Managment \n",
      " Press 2 for Entity Search \n",
      " Press 3 to perform specific query \n",
      " 3\n"
     ]
    }
   ],
   "source": [
    "selection=input(\" Press 1 for Entity Managment \\n Press 2 for Entity Search \\n Press 3 to perform specific query \\n \")\n",
    "selection=int(selection)"
   ]
  },
  {
   "cell_type": "markdown",
   "id": "6698ddc6",
   "metadata": {},
   "source": [
    "Found this way without using sys"
   ]
  },
  {
   "cell_type": "code",
   "execution_count": 37,
   "id": "313c97c1",
   "metadata": {},
   "outputs": [],
   "source": [
    "if selection==1 or selection==2:\n",
    "    print(\"Select entity\")\n",
    "    ent_choice=input(' Press 1 for Dealer \\n Press 2 for Customer \\n Press 3 for Options \\n Press 4 for Vehicle \\n Press 5 for Brand \\n Press 6 for Model \\n')\n",
    "    ent_choice=int(ent_choice)\n",
    "    Ent_dict={}\n",
    "    Ent_dict[1]=\"Dealer\"\n",
    "    Ent_dict[2]=\"Customer\"\n",
    "    Ent_dict[3]=\"Options1\"\n",
    "    Ent_dict[4]=\"Vehicle\"\n",
    "    Ent_dict[5]=\"Brand\"\n",
    "    Ent_dict[6]=\"Model\"\n",
    "    Ent_command= Ent_dict[ent_choice]\n",
    "    cu.execute(\"Select * from \"+ Ent_command)\n",
    "    results=cu.description\n",
    "    cu=con.cursor()\n",
    "    fields=[]\n",
    "    for i in range(len(results)):\n",
    "        fields.append(results[i][0])\n",
    "        fields.append(',')   \n",
    "    a=\"%s,\"*len(results)\n",
    "    a=a[:len(a)-1]\n",
    "\n",
    "    fields=' '.join(word for word in fields)\n",
    "    fields=fields[:len(fields)-1]\n"
   ]
  },
  {
   "cell_type": "markdown",
   "id": "8a571169",
   "metadata": {},
   "source": [
    "We have table name and only need the fields and the input"
   ]
  },
  {
   "cell_type": "markdown",
   "id": "912b6cc0",
   "metadata": {},
   "source": [
    "   Managment selection"
   ]
  },
  {
   "cell_type": "code",
   "execution_count": 38,
   "id": "9065cd48",
   "metadata": {},
   "outputs": [],
   "source": [
    "if selection==1:\n",
    "    \n",
    "    insdel_choice=input(\" Press 1 to  insert entity \\n Press 2  to delete entity \\n Press 3  to update entity  : \")\n",
    "    insdel_choice=int(insdel_choice)\n",
    "    print(\"Entity fields are: \",fields)\n",
    "    if insdel_choice==1:\n",
    "        queryInsert=\"INSERT INTO \"+ Ent_command + \" (\" + fields + \") VALUES (\" + a + \")\"\n",
    "        Param_inputs=[]\n",
    "        for i in range(len(results)):      #inputs for every param\n",
    "            Param_inputs.append(Int_input())\n",
    "    \n",
    "        if len(results)==2:\n",
    "            cu.execute(queryInsert,(Param_inputs[0], Param_inputs[1]))\n",
    "        elif len(results)==3:\n",
    "            cu.execute(queryInsert,(Param_inputs[0], Param_inputs[1], Param_inputs[2]))  \n",
    "        elif len(results)==4:\n",
    "            cu.execute(queryInsert,(Param_inputs[0], Param_inputs[1], Param_inputs[2], Param_inputs[3]))  \n",
    "        elif len(results)==5:\n",
    "            cu.execute(queryInsert,(Param_inputs[0], Param_inputs[1], Param_inputs[2], Param_inputs[3], Param_inputs[4]) )   \n",
    "        elif len(results)==6:\n",
    "            cu.execute(queryInsert,(Param_inputs[0], Param_inputs[1], Param_inputs[2], Param_inputs[3], Param_inputs[4], Param_inputs[5]) )   \n",
    "        elif len(results)==7:\n",
    "            cu.execute(queryInsert,(Param_inputs[0], Param_inputs[1], Param_inputs[2], Param_inputs[3], Param_inputs[4], Param_inputs[5], Param_inputs[6]))    \n",
    "\n",
    "           \n",
    "            \n",
    "    elif insdel_choice==2:\n",
    "        command= input(\"Type something like Country='France' \\n \")\n",
    "        queryDel=\"DELETE FROM \"+ Ent_command + \" Where \" + command + ';'    \n",
    "        cu.execute(queryDel)\n",
    "   \n",
    "    elif insdel_choice==3:    \n",
    "        commandU= input(\"Type something like SET column1 = value1, column2 = value2, ... WHERE condition \\n \")\n",
    "        queryUpd=\"UPDATE \"+ Ent_command + \" SET \" + commandU + ';'\n",
    "        cu.execute(queryUpd)\n",
    "        \n",
    "con.commit()            "
   ]
  },
  {
   "cell_type": "markdown",
   "id": "4b4ed580",
   "metadata": {},
   "source": [
    "Search selection"
   ]
  },
  {
   "cell_type": "code",
   "execution_count": 39,
   "id": "cfbeaa51",
   "metadata": {},
   "outputs": [],
   "source": [
    "if selection==2:\n",
    "    for i in range (len(results)):\n",
    "        print( \"Search Entity \" + Ent_command +\" using field:  \" +   results[i][0] )\n",
    "    selected_field= input(\"Type field : \")\n",
    "    select_query=\"SELECT  *  FROM  \" + Ent_command + \"  WHERE  \" + selected_field + \" = \" +  input(\"Something like 'France' or 124: \") \n",
    "    cu=con.cursor()\n",
    "    cu.execute(select_query)\n",
    "    print(\"\\n The results are: \")\n",
    "    print(cu.fetchall())"
   ]
  },
  {
   "cell_type": "markdown",
   "id": "df39b0d8",
   "metadata": {},
   "source": [
    "Specific queries:"
   ]
  },
  {
   "cell_type": "code",
   "execution_count": 43,
   "id": "8b3d7b34",
   "metadata": {},
   "outputs": [
    {
     "name": "stdout",
     "output_type": "stream",
     "text": [
      "Perform specific query:Find the name of best customer  and  his  dealers \n",
      "\n",
      "Perform specific query:Find the most expensive model's price name model,brand and which dealer sold it  \n",
      "\n",
      "Perform specific query:Inform customers about available cars \n",
      "\n",
      "Perform specific query:Check available customers. \n",
      "\n",
      "Press 1,2,3 or 44\n",
      "\n",
      " The results are: \n",
      "[('Manos', 'Zaxas'), ('Irodotos', 'Xrhstoy'), ('Xristina', 'Anrwniou'), ('Kwnstantina', 'Alexandrou'), ('Maria', 'Nasou'), ('Antwnis', 'Zachariou')]\n"
     ]
    }
   ],
   "source": [
    "if selection==3:\n",
    "    queryDict={}\n",
    "    queryDict[1]=\"select c_name as customer_name ,c_surname, d_name as dealer_name,buyed_num as Car_purchases from Customer inner join Dealer on Customer.d_id=Dealer.d_id where buyed_num=(select max(buyed_num) from customer);\"\n",
    "    queryDict[2]=\"select cost as Biggest_Price ,m_name as Model_name, b_name as Brand_Name,d_name as Dealer_name,d_surname as Dealer_surname from Dealer inner join Vehicle as  V1 on V1.fk_dealer=Dealer.d_id inner join Model on Model.model_id=V1.fk_model inner join Brand on Brand.brand_id=Model.fk_brand where V1.cost=(select max(V2.cost) from Vehicle as V2 );\"\n",
    "    queryDict[3]=\"select VIN,b_name,m_name,cost,VIN from vehicle inner join Model on Vehicle.fk_model=Model.model_id inner join Brand on Brand.brand_id=Model.fk_brand where Vehicle.fk_dealer IS NULL;\"\n",
    "    queryDict[4]=\"select c_name as Available_customer_name,c_surname as  Available_customer_last from customer where Customer.d_id IS NULL;\"\n",
    "    cu=con.cursor()\n",
    "    \n",
    "    print(\"Perform specific query:Find the name of best customer  and  his  dealers \\n\")\n",
    "    print(\"Perform specific query:Find the most expensive model's price name model,brand and which dealer sold it  \\n\")\n",
    "    print(\"Perform specific query:Inform customers about available cars \\n\")\n",
    "    print(\"Perform specific query:Check available customers. \\n\")\n",
    "    q_choice=int(input(\"Press 1,2,3 or 4\"))\n",
    "    cu.execute(queryDict[q_choice])             \n",
    "    print(\"\\n The results are: \")   \n",
    "    print(cu.fetchall())"
   ]
  }
 ],
 "metadata": {
  "kernelspec": {
   "display_name": "Python 3",
   "language": "python",
   "name": "python3"
  },
  "language_info": {
   "codemirror_mode": {
    "name": "ipython",
    "version": 3
   },
   "file_extension": ".py",
   "mimetype": "text/x-python",
   "name": "python",
   "nbconvert_exporter": "python",
   "pygments_lexer": "ipython3",
   "version": "3.8.8"
  }
 },
 "nbformat": 4,
 "nbformat_minor": 5
}
